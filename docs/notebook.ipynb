{
 "cells": [
  {
   "cell_type": "markdown",
   "metadata": {},
   "source": [
    "# Class API Example"
   ]
  },
  {
   "cell_type": "code",
   "execution_count": 1,
   "metadata": {},
   "outputs": [
    {
     "name": "stderr",
     "output_type": "stream",
     "text": [
      "\u001b[33m[2024-05-25 11:04:44,176] [project] [DEBUG] Imported shutil\u001b[0m\n",
      "\u001b[33m[2024-05-25 11:04:44,177] [project] [DEBUG] Imported json\u001b[0m\n",
      "\u001b[33m[2024-05-25 11:04:44,178] [TestGMXVG] [DEBUG] Imported shutil\u001b[0m\n",
      "\u001b[33m[2024-05-25 11:04:44,179] [TestGMXVG] [DEBUG] Imported json\u001b[0m\n",
      "\u001b[33m[2024-05-25 11:04:44,576] [TestGMXVG] [DEBUG] Imported pandas\u001b[0m\n",
      "\u001b[33m[2024-05-25 11:04:44,852] [TestGMXVG] [DEBUG] Imported matplotlib.pyplot\u001b[0m\n",
      "\u001b[33m[2024-05-25 11:04:45,145] [TestGMXVG] [DEBUG] Imported seaborn\u001b[0m\n",
      "\u001b[33m[2024-05-25 11:04:45,146] [TestGMXVG] [DEBUG] Imported shutil\u001b[0m\n",
      "\u001b[33m[2024-05-25 11:04:45,147] [TestGMXVG] [DEBUG] Imported re\u001b[0m\n",
      "\u001b[31m[2024-05-25 11:04:45,148] [TestGMXVG] [ERROR] 0.4.8 (20240525)\u001b[0m\n",
      "\u001b[37m[2024-05-25 11:04:45,149] [TestGMXVG] [INFO] Plotting in single directory /mnt/DataDrive/MDD/T0096--DevWork/GMXvg/.\u001b[0m\n",
      "\u001b[37m[2024-05-25 11:04:45,150] [TestGMXVG] [INFO] Plotting ./G2--Plot--Gyration-of-Complex.xvg.\u001b[0m\n"
     ]
    },
    {
     "name": "stdout",
     "output_type": "stream",
     "text": [
      "/mnt/DataDrive/MDD/T0096--DevWork/GMXvg/\n"
     ]
    },
    {
     "name": "stderr",
     "output_type": "stream",
     "text": [
      "\u001b[37m[2024-05-25 11:04:46,282] [TestGMXVG] [INFO] Plotting ./Lig-RMSD.xvg.\u001b[0m\n",
      "\u001b[37m[2024-05-25 11:04:46,587] [TestGMXVG] [INFO] Plotting ./Plot--Gyration-of-Protein.xvg.\u001b[0m\n",
      "\u001b[37m[2024-05-25 11:04:47,484] [TestGMXVG] [INFO] Plotting ./Plot--RMSD-of-Protein-Backbone.xvg.\u001b[0m\n",
      "\u001b[37m[2024-05-25 11:04:47,766] [TestGMXVG] [INFO] Plotting ./Protein-RMSD.xvg.\u001b[0m\n",
      "\u001b[37m[2024-05-25 11:04:48,010] [TestGMXVG] [INFO] Plotting ./Sub-Dir/Plot--Gyration-of-Protein.xvg.\u001b[0m\n",
      "\u001b[37m[2024-05-25 11:04:48,966] [TestGMXVG] [INFO] Plotting ./Sub-Dir/Plot--RMSD-of-Protein-Backbone.xvg.\u001b[0m\n",
      "\u001b[37m[2024-05-25 11:04:49,264] [TestGMXVG] [INFO] Plotting ./Sub-Dir2/Plot--Gyration-of-Protein.xvg.\u001b[0m\n",
      "\u001b[37m[2024-05-25 11:04:50,158] [TestGMXVG] [INFO] Plotting ./Sub-Dir2/Plot--RMSD-of-Protein-Backbone.xvg.\u001b[0m\n",
      "\u001b[37m[2024-05-25 11:04:50,457] [TestGMXVG] [INFO] Writing results to XVG-Plot-Values.csv.\u001b[0m\n",
      "\u001b[33m[2024-05-25 11:04:50,461] [TestGMXVG] [DEBUG] No action set to file rearrange.\u001b[0m\n"
     ]
    }
   ],
   "source": [
    "# Development and Testing\n",
    "_dev = True\n",
    "\n",
    "if _dev:\n",
    "  import sys as SYS\n",
    "  SYS.path.append(\"<path-to-gmxvg-dir>/GMXvg\")\n",
    "\n",
    "from gmxvg import GMXvg\n",
    "\n",
    "class TestInstance(GMXvg):\n",
    "  name = 'TestGMXVG'\n",
    "  def __init__(self, *args, **kwargs):\n",
    "    super().__init__(**kwargs)\n",
    "\n",
    "testAgent = TestInstance(path_base=\"/mnt/DataDrive/MDD/T0096--DevWork/GMXvg/\")\n",
    "testAgent.error(testAgent.version_info)\n",
    "print(testAgent.path_base)\n",
    "testAgent.export_xvg()"
   ]
  },
  {
   "cell_type": "code",
   "execution_count": 2,
   "metadata": {},
   "outputs": [
    {
     "name": "stderr",
     "output_type": "stream",
     "text": [
      "\u001b[37m[2024-05-25 11:04:56,626] [TestGMXVG] [INFO] Deleted 10 files.\u001b[0m\n"
     ]
    }
   ],
   "source": [
    "# Delete generated files for retesting\n",
    "testAgent.clean_gmxvg_files()"
   ]
  },
  {
   "cell_type": "markdown",
   "metadata": {},
   "source": [
    "# CLI Example \n",
    "* Run through commandline after installation"
   ]
  },
  {
   "cell_type": "code",
   "execution_count": null,
   "metadata": {},
   "outputs": [],
   "source": [
    "# with default parameters\n",
    "!gmxvg\n",
    "\n",
    "# Specifying single directory to plot\n",
    "!gmxvg -b /mnt/DataDrive/MDD/T0096--DevWork/GMXvg/\n",
    "\n",
    "# Specifying multiple directories to plot\n",
    "!gmxvg -md /mnt/DataDrive/MDD/T0096--DevWork/GMXvg/graphs1 /mnt/DataDrive/MDD/T0096--DevWork/GMXvg/graphs2\n",
    "\n",
    "# Specifying output type to be generated\n",
    "!gmxvg -b /mnt/DataDrive/MDD/T0096--DevWork/GMXvg/ -e svg\n",
    "\n",
    "# Specifying multiple extensions and dpi for output\n",
    "!gmxvg -b /mnt/DataDrive/MDD/T0096--DevWork/GMXvg/ -e png jpeg -d 72 600\n"
   ]
  }
 ],
 "metadata": {
  "kernelspec": {
   "display_name": "aiml3",
   "language": "python",
   "name": "python3"
  },
  "language_info": {
   "codemirror_mode": {
    "name": "ipython",
    "version": 3
   },
   "file_extension": ".py",
   "mimetype": "text/x-python",
   "name": "python",
   "nbconvert_exporter": "python",
   "pygments_lexer": "ipython3",
   "version": "3.8.14"
  }
 },
 "nbformat": 4,
 "nbformat_minor": 2
}
